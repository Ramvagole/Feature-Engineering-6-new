{
 "cells": [
  {
   "cell_type": "markdown",
   "id": "c9935233-bbf8-4362-bb1e-d508ce455d7d",
   "metadata": {},
   "source": [
    "#Q1):-\n",
    "To calculate the Pearson correlation coefficient between the amount of time students spend studying for an exam and their final exam scores, you need a dataset that includes paired observations of these two variables for each student. Let's assume you have such a dataset.\n",
    "\n",
    "Here are the steps to calculate the Pearson correlation coefficient:\n",
    "\n",
    "Compute the mean (average) of the study time and the mean of the exam scores.\n",
    "Calculate the difference between each student's study time and the mean study time.\n",
    "Calculate the difference between each student's exam score and the mean exam score.\n",
    "Multiply each pair of differences calculated in steps 2 and 3.\n",
    "Sum up all the products obtained in step 4.\n",
    "Calculate the standard deviation of study time and the standard deviation of exam scores.\n",
    "Multiply the standard deviations calculated in step 6.\n",
    "Divide the sum obtained in step 5 by the product obtained in step 7.\n",
    "The result of step 8 is the Pearson correlation coefficient.\n",
    "The Pearson correlation coefficient ranges between -1 and 1. The interpretation of the Pearson correlation coefficient is as follows:\n",
    "\n",
    "If the correlation coefficient is close to +1, it indicates a strong positive linear relationship between the two variables. In this case, as the amount of time spent studying increases, the final exam scores tend to increase as well.\n",
    "If the correlation coefficient is close to -1, it indicates a strong negative linear relationship between the two variables. In this case, as the amount of time spent studying increases, the final exam scores tend to decrease.\n",
    "If the correlation coefficient is close to 0, it indicates a weak or no linear relationship between the two variables. The amount of time spent studying doesn't have a significant effect on the final exam scores.\n",
    "It's important to note that the Pearson correlation coefficient measures only the strength and direction of a linear relationship. It doesn't capture any non-linear relationships or causation between the variables."
   ]
  },
  {
   "cell_type": "markdown",
   "id": "fbcb2770-88c7-437c-9ace-c8e1773b34b3",
   "metadata": {},
   "source": [
    "#Q2):-\n",
    "\n",
    "To calculate Spearman's rank correlation coefficient between the amount of sleep individuals get each night and their overall job satisfaction level, you need a dataset that includes paired observations of these two variables for each individual. Let's assume you have such a dataset.\n",
    "\n",
    "Here are the steps to calculate Spearman's rank correlation coefficient:\n",
    "\n",
    "Rank the values of each variable separately. Assign a rank of 1 to the smallest value, 2 to the next smallest, and so on. If there are ties, assign the average rank to each tied value.\n",
    "Calculate the difference between the ranks of the paired observations for each individual.\n",
    "Square the differences calculated in step 2.\n",
    "Sum up all the squared differences obtained in step 3.\n",
    "Calculate the number of observations, denoted as n.\n",
    "Calculate Spearman's rank correlation coefficient using the formula:\n",
    "rho = 1 - (6 * sum of squared differences) / (n^3 - n)\n",
    "The resulting value of rho ranges between -1 and 1. The interpretation of Spearman's rank correlation coefficient is as follows:\n",
    "\n",
    "If the coefficient is close to +1, it indicates a strong positive monotonic relationship between the two variables. In this case, as the amount of sleep individuals get each night increases, their overall job satisfaction level tends to increase as well.\n",
    "If the coefficient is close to -1, it indicates a strong negative monotonic relationship between the two variables. In this case, as the amount of sleep individuals get each night increases, their overall job satisfaction level tends to decrease.\n",
    "If the coefficient is close to 0, it indicates a weak or no monotonic relationship between the two variables. The amount of sleep individuals get each night doesn't have a significant effect on their overall job satisfaction level.\n",
    "Spearman's rank correlation coefficient measures the monotonic relationship between variables, which means it captures both increasing and decreasing patterns, but not necessarily linear relationships. Like the Pearson correlation coefficient, it does not establish causation between the variables."
   ]
  },
  {
   "cell_type": "markdown",
   "id": "6976227f-106b-4cd8-8bd5-781e32aedbb5",
   "metadata": {},
   "source": [
    "#Q3):-\n",
    "To calculate the Pearson correlation coefficient and the Spearman's rank correlation coefficient between the number of hours of exercise per week and body mass index (BMI) in a sample of 50 participants, you need the paired observations for each participant. Let's assume you have such a dataset.\n",
    "\n",
    "Here are the steps to calculate both correlation coefficients:\n",
    "\n",
    "Calculate the mean (average) of the number of hours of exercise per week and the mean of the BMI.\n",
    "Calculate the difference between each participant's number of hours of exercise per week and the mean number of hours of exercise per week.\n",
    "Calculate the difference between each participant's BMI and the mean BMI.\n",
    "Multiply each pair of differences calculated in steps 2 and 3.\n",
    "Sum up all the products obtained in step 4.\n",
    "Calculate the standard deviation of the number of hours of exercise per week and the standard deviation of the BMI.\n",
    "Multiply the standard deviations calculated in step 6.\n",
    "Divide the sum obtained in step 5 by the product obtained in step 7.\n",
    "The result of step 8 is the Pearson correlation coefficient.\n",
    "To calculate the Spearman's rank correlation coefficient, follow these additional steps:\n",
    "\n",
    "Rank the values of each variable separately (number of hours of exercise per week and BMI). Assign a rank of 1 to the smallest value, 2 to the next smallest, and so on. If there are ties, assign the average rank to each tied value.\n",
    "Calculate the difference between the ranks of the paired observations for each participant.\n",
    "Square the differences calculated in step 11.\n",
    "Sum up all the squared differences obtained in step 12.\n",
    "Calculate the number of observations, denoted as n.\n",
    "Calculate Spearman's rank correlation coefficient using the formula:\n",
    "rho = 1 - (6 * sum of squared differences) / (n^3 - n)\n",
    "The resulting Pearson correlation coefficient and Spearman's rank correlation coefficient will have different interpretations.\n",
    "\n",
    "The Pearson correlation coefficient measures the strength and direction of the linear relationship between the number of hours of exercise per week and BMI. Its interpretation is the same as mentioned earlier:\n",
    "\n",
    "If the coefficient is close to +1, it indicates a strong positive linear relationship, suggesting that as the number of hours of exercise per week increases, BMI tends to decrease (negative correlation).\n",
    "If the coefficient is close to -1, it indicates a strong negative linear relationship, suggesting that as the number of hours of exercise per week increases, BMI tends to increase (positive correlation).\n",
    "If the coefficient is close to 0, it indicates a weak or no linear relationship between the variables.\n",
    "On the other hand, Spearman's rank correlation coefficient measures the monotonic relationship between the number of hours of exercise per week and BMI. Its interpretation is as follows:\n",
    "\n",
    "If the coefficient is close to +1, it indicates a strong positive monotonic relationship, suggesting that as the number of hours of exercise per week increases, BMI tends to decrease (negative correlation).\n",
    "If the coefficient is close to -1, it indicates a strong negative monotonic relationship, suggesting that as the number of hours of exercise per week increases, BMI tends to increase (positive correlation).\n",
    "If the coefficient is close to 0, it indicates a weak or no monotonic relationship between the variables.\n",
    "By comparing the two correlation coefficients, you can determine if the relationship between the variables is more linear or more monotonic."
   ]
  },
  {
   "cell_type": "markdown",
   "id": "69ba0386-fef8-4367-bfb4-5783fca227d4",
   "metadata": {},
   "source": [
    "#Q4):-\n",
    "To calculate the Pearson correlation coefficient between the number of hours individuals spend watching television per day and their level of physical activity, you need the paired observations for each participant in your sample. Let's assume you have such a dataset for 50 participants.\n",
    "\n",
    "Here are the steps to calculate the Pearson correlation coefficient:\n",
    "\n",
    "Calculate the mean (average) of the number of hours spent watching television per day and the mean of the level of physical activity.\n",
    "Calculate the difference between each participant's number of hours spent watching television per day and the mean number of hours.\n",
    "Calculate the difference between each participant's level of physical activity and the mean activity level.\n",
    "Multiply each pair of differences calculated in steps 2 and 3.\n",
    "Sum up all the products obtained in step 4.\n",
    "Calculate the standard deviation of the number of hours spent watching television per day and the standard deviation of the level of physical activity.\n",
    "Multiply the standard deviations calculated in step 6.\n",
    "Divide the sum obtained in step 5 by the product obtained in step 7.\n",
    "The result of step 8 is the Pearson correlation coefficient.\n",
    "The Pearson correlation coefficient ranges between -1 and 1. Its interpretation is as follows:\n",
    "\n",
    "If the coefficient is close to +1, it indicates a strong positive linear relationship between the number of hours spent watching television and the level of physical activity. In this case, as the number of hours watching TV increases, the level of physical activity tends to increase as well.\n",
    "If the coefficient is close to -1, it indicates a strong negative linear relationship. This means that as the number of hours spent watching television increases, the level of physical activity tends to decrease.\n",
    "If the coefficient is close to 0, it indicates a weak or no linear relationship between the variables. The number of hours spent watching television doesn't have a significant effect on the level of physical activity.\n",
    "By calculating the Pearson correlation coefficient, you can quantify the strength and direction of the linear relationship between the number of hours spent watching television and the level of physical activity in your sample of participants."
   ]
  },
  {
   "cell_type": "code",
   "execution_count": 5,
   "id": "d5ed8c25-b3a2-4d8d-bfb4-7efaef758ca2",
   "metadata": {},
   "outputs": [
    {
     "name": "stdout",
     "output_type": "stream",
     "text": [
      "soft drink  Coke  Mountain dew  Pepsi\n",
      "Age                                  \n",
      "19             1             0      0\n",
      "25             1             0      0\n",
      "28             1             0      0\n",
      "31             0             0      1\n",
      "37             0             1      0\n",
      "42             0             0      1\n"
     ]
    }
   ],
   "source": [
    "#Q5):-\n",
    "import pandas as pd\n",
    "\n",
    "f = pd.DataFrame({\"Age\": [25, 42, 37, 19, 31, 28],\n",
    "                  \"soft drink\": [\"Coke\", \"Pepsi\", \"Mountain dew\", \"Coke\", \"Pepsi\", \"Coke\"]})\n",
    "\n",
    "cross_tab = pd.crosstab(f['Age'], f['soft drink'])\n",
    "print(cross_tab)\n"
   ]
  },
  {
   "cell_type": "markdown",
   "id": "6c6e9200-ce65-4851-8de5-1f1f3a5c64ad",
   "metadata": {},
   "source": [
    "#Q6):-\n",
    "To calculate the Pearson correlation coefficient between the number of sales calls made per day and the number of sales made per week in a sample of 30 sales representatives, you need the paired observations for each sales representative. Let's assume you have such a dataset.\n",
    "\n",
    "Here are the steps to calculate the Pearson correlation coefficient:\n",
    "\n",
    "Calculate the mean (average) of the number of sales calls made per day and the mean of the number of sales made per week.\n",
    "Calculate the difference between each sales representative's number of sales calls made per day and the mean number of sales calls.\n",
    "Calculate the difference between each sales representative's number of sales made per week and the mean number of sales made.\n",
    "Multiply each pair of differences calculated in steps 2 and 3.\n",
    "Sum up all the products obtained in step 4.\n",
    "Calculate the standard deviation of the number of sales calls made per day and the standard deviation of the number of sales made per week.\n",
    "Multiply the standard deviations calculated in step 6.\n",
    "Divide the sum obtained in step 5 by the product obtained in step 7.\n",
    "The result of step 8 is the Pearson correlation coefficient.\n",
    "The Pearson correlation coefficient ranges between -1 and 1. Its interpretation is as follows:\n",
    "\n",
    "If the coefficient is close to +1, it indicates a strong positive linear relationship between the number of sales calls made per day and the number of sales made per week. In this case, as the number of sales calls made per day increases, the number of sales made per week tends to increase as well.\n",
    "If the coefficient is close to -1, it indicates a strong negative linear relationship. This means that as the number of sales calls made per day increases, the number of sales made per week tends to decrease.\n",
    "If the coefficient is close to 0, it indicates a weak or no linear relationship between the variables. The number of sales calls made per day doesn't have a significant effect on the number of sales made per week.\n",
    "By calculating the Pearson correlation coefficient, you can quantify the strength and direction of the linear relationship between the number of sales calls made per day and the number of sales made per week in your sample of sales representatives."
   ]
  }
 ],
 "metadata": {
  "kernelspec": {
   "display_name": "Python 3 (ipykernel)",
   "language": "python",
   "name": "python3"
  },
  "language_info": {
   "codemirror_mode": {
    "name": "ipython",
    "version": 3
   },
   "file_extension": ".py",
   "mimetype": "text/x-python",
   "name": "python",
   "nbconvert_exporter": "python",
   "pygments_lexer": "ipython3",
   "version": "3.10.8"
  }
 },
 "nbformat": 4,
 "nbformat_minor": 5
}
